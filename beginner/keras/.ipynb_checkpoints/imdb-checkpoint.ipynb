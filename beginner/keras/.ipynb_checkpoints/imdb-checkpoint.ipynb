{
 "cells": [
  {
   "cell_type": "markdown",
   "metadata": {},
   "source": [
    "# 영화 리뷰를 사용한 텍스트 분류\n",
    "\n",
    "- 영화 리뷰 텍스트를 긍정 or 부정으로 분류\n",
    "- 이진(binary) or 클래스가 2개인 분류 문제\n",
    "- 인터넷 영화 데이터베이스 (Internet Movie Database -> IMDB)에서 수집한 50,000개의 영화 리뷰 테스트를 담은 IMDB 데이터셋 사용\n",
    "    - 25,000개 리뷰는 훈련용\n",
    "    - 25,000개 리뷰는 테스트용으로 나뉘어져 있음\n",
    "- 훈련 세트, 테스트 세트의 클래스는 균형 잡혀 있음\n",
    "    - 긍정, 부정 리뷰 개수가 동일하다는 의미"
   ]
  },
  {
   "cell_type": "code",
   "execution_count": 5,
   "metadata": {},
   "outputs": [],
   "source": [
    "import tensorflow as tf\n",
    "from tensorflow import keras\n",
    "\n",
    "import numpy as np\n",
    "\n",
    "# 데이터 download 인증 문제로 인해 추가함\n",
    "import ssl\n",
    "ssl._create_default_https_context = ssl._create_unverified_context"
   ]
  },
  {
   "cell_type": "code",
   "execution_count": 6,
   "metadata": {},
   "outputs": [],
   "source": [
    "# 단어의 시퀀스가 미리 전처리 되어 정수 시퀀스로 변환되어 있음 (정수값 = 어휘 사전에 있는 특정 단어)\n",
    "imdb = keras.datasets.imdb"
   ]
  },
  {
   "cell_type": "code",
   "execution_count": 7,
   "metadata": {},
   "outputs": [
    {
     "name": "stdout",
     "output_type": "stream",
     "text": [
      "Downloading data from https://storage.googleapis.com/tensorflow/tf-keras-datasets/imdb.npz\n",
      "17465344/17464789 [==============================] - 0s 0us/step\n"
     ]
    },
    {
     "name": "stderr",
     "output_type": "stream",
     "text": [
      "/Library/Frameworks/Python.framework/Versions/3.7/lib/python3.7/site-packages/tensorflow_core/python/keras/datasets/imdb.py:129: VisibleDeprecationWarning: Creating an ndarray from ragged nested sequences (which is a list-or-tuple of lists-or-tuples-or ndarrays with different lengths or shapes) is deprecated. If you meant to do this, you must specify 'dtype=object' when creating the ndarray\n",
      "  x_train, y_train = np.array(xs[:idx]), np.array(labels[:idx])\n",
      "/Library/Frameworks/Python.framework/Versions/3.7/lib/python3.7/site-packages/tensorflow_core/python/keras/datasets/imdb.py:130: VisibleDeprecationWarning: Creating an ndarray from ragged nested sequences (which is a list-or-tuple of lists-or-tuples-or ndarrays with different lengths or shapes) is deprecated. If you meant to do this, you must specify 'dtype=object' when creating the ndarray\n",
      "  x_test, y_test = np.array(xs[idx:]), np.array(labels[idx:])\n"
     ]
    }
   ],
   "source": [
    "# num_words: 훈련 데이터에서 가장 많이 등장하는 상위 단어 개수\n",
    "(train_data, train_labels), (test_data, test_labels) = imdb.load_data(num_words=10000)"
   ]
  },
  {
   "cell_type": "code",
   "execution_count": 11,
   "metadata": {},
   "outputs": [
    {
     "name": "stdout",
     "output_type": "stream",
     "text": [
      "훈련 샘플: 25000, 레이블: 25000\n",
      "218 189\n"
     ]
    }
   ],
   "source": [
    "# data exploration -- 0: negative, 1:positive\n",
    "print(\"훈련 샘플: {}, 레이블: {}\".format(len(train_data), len(train_labels)))\n",
    "# 영화 리뷰별 길이가 다름\n",
    "print(len(train_data[0]), len(train_data[1]))"
   ]
  },
  {
   "cell_type": "code",
   "execution_count": 16,
   "metadata": {},
   "outputs": [],
   "source": [
    "# 단어와 정수 인덱스를 매핑한 딕셔너리\n",
    "word_index = imdb.get_word_index()"
   ]
  },
  {
   "cell_type": "code",
   "execution_count": 24,
   "metadata": {},
   "outputs": [
    {
     "name": "stdout",
     "output_type": "stream",
     "text": [
      "<START> and i of by run total personality thrown up oh taught no tap ? nothing his rather ? was most by viewing after her order <UNK> ? are turn different ? such ? funny after 10 <UNK> nice tell be ? funny cd moves to stories he the cinema ? things her of ? why debut br and i ? candy im already ? i would bad ? of by run he see a the surprisingly ? i to child to ? of shown is <UNK> ? more remember ? ? beautiful ? make ? ? tape challenged of turn no kenneth not ? where ? of he looked ? was never or his ever from was track not ? i ? action with their just ? and written of well <UNK> ? ? them films suggestion a rather ? <UNK> ? scripted ? easily his would by run under as understand john who ? ? <UNK> talented the then get ? women a dvd how on santa has as man ? young ignores is ? role i it off under as turn ? say but reluctant is or his with must into was then ? role up of he producer get ? of book ? of namely think its on a of coincidence br find on\n"
     ]
    }
   ],
   "source": [
    "# 단어 인덱스 + 3 -- ex. fawn: 34701 -> 34704\n",
    "word_index = {k: (v+3) for k,v in word_index.items()}\n",
    "# 단어 추가\n",
    "word_index['<PAD>'] = 0\n",
    "word_index[\"<START>\"] = 1\n",
    "word_index[\"<UNK>\"] = 2  # unknown\n",
    "word_index[\"<UNUSED>\"] = 3\n",
    "\n",
    "# key, value값이 바뀜\n",
    "reverse_word_index = dict([(value, key) for (key, value) in word_index.items()])\n",
    "\n",
    "# 정수값에 대한 단어 도출 (input: 정수값 리스트)\n",
    "def decode_review(text):\n",
    "    return ' '.join([reverse_word_index.get(i, '?') for i in text]) # 정수값이 없으면 '?'로 표시\n",
    "\n",
    "print(decode_review(train_data[0]))"
   ]
  },
  {
   "cell_type": "markdown",
   "metadata": {},
   "source": [
    "## 텐서 변환 방법\n",
    "- 원-핫 인코딩(one-hot encoding): 정수 배열을 0과 1로 이루어진 벡터로 변환하는 방법\n",
    "    - ex. [0, 1, 2] --> [[1,0,0], [0,1,0], [0,0,1]]\n",
    "    - 크기: 단어 수 * 리뷰 수 --> memory 많이 사용\n",
    "- 패딩(padding): 정수 배열의 길이가 모두 같도록 변환하는 기법\n",
    "    - 크기: max_length * 리뷰 수\n",
    "        - max_length: 가장 긴 단어의 길이"
   ]
  },
  {
   "cell_type": "code",
   "execution_count": 29,
   "metadata": {},
   "outputs": [],
   "source": [
    "train_data = keras.preprocessing.sequence.pad_sequences(train_data,\n",
    "                                                        value=word_index[\"<PAD>\"],\n",
    "                                                        padding='post',\n",
    "                                                        maxlen=256)\n",
    "\n",
    "test_data = keras.preprocessing.sequence.pad_sequences(test_data,\n",
    "                                                       value=word_index[\"<PAD>\"],\n",
    "                                                       padding='post',\n",
    "                                                       maxlen=256)"
   ]
  },
  {
   "cell_type": "code",
   "execution_count": 31,
   "metadata": {},
   "outputs": [
    {
     "data": {
      "text/plain": [
       "(256, 256)"
      ]
     },
     "execution_count": 31,
     "metadata": {},
     "output_type": "execute_result"
    }
   ],
   "source": [
    "# 리뷰 길이가 같아짐\n",
    "len(train_data[0]), len(train_data[1])"
   ]
  },
  {
   "cell_type": "markdown",
   "metadata": {},
   "source": [
    "## 모델 구성\n",
    "### 분류기\n",
    "- Embedding 층\n",
    "    - 정수로 인코딩된 단어를 입력 받고, 각 단어 인덱스에 해당하는 임베딩 벡터를 찾음\n",
    "    - 모델이 훈련되면서 벡터가 학습됨\n",
    "    - 해당 벡터는 출력 배열에 새로운 차원으로 추가됨\n",
    "    - 최종 차원은 (batch, sequence, embedding)이 됨\n",
    "- GlobalAveragePooling1D 층\n",
    "    - sequence 차원에 대해 평균을 계산하여 각 샘플에 대해 고정된 길이의 출력 벡터를 반환\n",
    "    - 길이가 다른 입력을 다루는 가장 간단한 방법\n",
    "- 완전 연결 층 (Fully connected)\n",
    "    - 16개의 은닉 유닛을 가짐\n",
    "- 마지막 층\n",
    "    - sigmoid 활성화 함수를 사용하여 0~1의 실수를 출력\n",
    "    - 확률 or 신뢰도를 나타냄\n",
    "    \n",
    "### 은닉 유닛\n",
    "- 출력의 개수는 층이 가진 표현 공간(representational space)의 차원 (= 내부 표현을 학습할 때 허용되는 네트워크 자유도의 양)\n",
    "- 모델에 많은 은닉 유닛이 있을 경우\n",
    "    - 복잡한 표현을 학습 가능\n",
    "    - 네트워크의 계산 비용이 많이 들고, 원치 않는 패턴을 학습할 수도 있음 --> 과대적합 (훈련데이터에 과대하게 적합하게 피팅되는 현상 => 일반화 성능이 떨어짐)\n",
    "    \n",
    "    "
   ]
  },
  {
   "cell_type": "code",
   "execution_count": 32,
   "metadata": {},
   "outputs": [
    {
     "name": "stdout",
     "output_type": "stream",
     "text": [
      "Model: \"sequential\"\n",
      "_________________________________________________________________\n",
      "Layer (type)                 Output Shape              Param #   \n",
      "=================================================================\n",
      "embedding (Embedding)        (None, None, 16)          160000    \n",
      "_________________________________________________________________\n",
      "global_average_pooling1d (Gl (None, 16)                0         \n",
      "_________________________________________________________________\n",
      "dense (Dense)                (None, 16)                272       \n",
      "_________________________________________________________________\n",
      "dense_1 (Dense)              (None, 1)                 17        \n",
      "=================================================================\n",
      "Total params: 160,289\n",
      "Trainable params: 160,289\n",
      "Non-trainable params: 0\n",
      "_________________________________________________________________\n"
     ]
    }
   ],
   "source": [
    "vocab_size = 10000 # num of words (어휘 사전의 크기)\n",
    "\n",
    "model = keras.Sequential()\n",
    "model.add(keras.layers.Embedding(vocab_size, 16, input_shape=(None,)))\n",
    "model.add(keras.layers.GlobalAveragePooling1D())\n",
    "model.add(keras.layers.Dense(16, activation='relu'))\n",
    "model.add(keras.layers.Dense(1, activation='sigmoid')) # 이진 분류 문제의 경우 sigmoid를 출력층의 활성화 함수로 주로 사용\n",
    "\n",
    "model.summary()"
   ]
  },
  {
   "cell_type": "code",
   "execution_count": 33,
   "metadata": {},
   "outputs": [],
   "source": [
    "model.compile(optimizer='adam',\n",
    "              loss='binary_crossentropy',\n",
    "              metrics=['accuracy'])"
   ]
  },
  {
   "cell_type": "code",
   "execution_count": 34,
   "metadata": {},
   "outputs": [],
   "source": [
    "# 검증 세트(validation set) --> 훈련 데이터만을 사용하여 모델을 개발하고 튜닝하는 것이 목표 (테스트 셋은 딱 한번 정확도 측정 시 사용)\n",
    "x_val = train_data[:10000]\n",
    "partial_x_train = train_data[10000:]\n",
    "\n",
    "y_val = train_labels[:10000]\n",
    "partial_y_train = train_labels[10000:]"
   ]
  },
  {
   "cell_type": "code",
   "execution_count": 37,
   "metadata": {},
   "outputs": [
    {
     "name": "stdout",
     "output_type": "stream",
     "text": [
      "Train on 15000 samples, validate on 10000 samples\n",
      "Epoch 1/40\n",
      "15000/15000 [==============================] - 0s 26us/sample - loss: 0.0152 - accuracy: 0.9988 - val_loss: 0.5342 - val_accuracy: 0.8665\n",
      "Epoch 2/40\n",
      "15000/15000 [==============================] - 0s 22us/sample - loss: 0.0146 - accuracy: 0.9989 - val_loss: 0.5396 - val_accuracy: 0.8667\n",
      "Epoch 3/40\n",
      "15000/15000 [==============================] - 0s 22us/sample - loss: 0.0143 - accuracy: 0.9989 - val_loss: 0.5448 - val_accuracy: 0.8652\n",
      "Epoch 4/40\n",
      "15000/15000 [==============================] - 0s 22us/sample - loss: 0.0134 - accuracy: 0.9993 - val_loss: 0.5502 - val_accuracy: 0.8655\n",
      "Epoch 5/40\n",
      "15000/15000 [==============================] - 0s 22us/sample - loss: 0.0131 - accuracy: 0.9993 - val_loss: 0.5562 - val_accuracy: 0.8650\n",
      "Epoch 6/40\n",
      "15000/15000 [==============================] - 0s 22us/sample - loss: 0.0124 - accuracy: 0.9993 - val_loss: 0.5617 - val_accuracy: 0.8647\n",
      "Epoch 7/40\n",
      "15000/15000 [==============================] - 0s 22us/sample - loss: 0.0120 - accuracy: 0.9995 - val_loss: 0.5663 - val_accuracy: 0.8644\n",
      "Epoch 8/40\n",
      "15000/15000 [==============================] - 0s 23us/sample - loss: 0.0115 - accuracy: 0.9995 - val_loss: 0.5728 - val_accuracy: 0.8637\n",
      "Epoch 9/40\n",
      "15000/15000 [==============================] - 0s 22us/sample - loss: 0.0110 - accuracy: 0.9995 - val_loss: 0.5779 - val_accuracy: 0.8636\n",
      "Epoch 10/40\n",
      "15000/15000 [==============================] - 0s 23us/sample - loss: 0.0106 - accuracy: 0.9995 - val_loss: 0.5821 - val_accuracy: 0.8644\n",
      "Epoch 11/40\n",
      "15000/15000 [==============================] - 0s 23us/sample - loss: 0.0101 - accuracy: 0.9995 - val_loss: 0.5889 - val_accuracy: 0.8636\n",
      "Epoch 12/40\n",
      "15000/15000 [==============================] - 0s 23us/sample - loss: 0.0097 - accuracy: 0.9996 - val_loss: 0.5923 - val_accuracy: 0.8640\n",
      "Epoch 13/40\n",
      "15000/15000 [==============================] - 0s 23us/sample - loss: 0.0092 - accuracy: 0.9997 - val_loss: 0.5983 - val_accuracy: 0.8629\n",
      "Epoch 14/40\n",
      "15000/15000 [==============================] - 0s 24us/sample - loss: 0.0088 - accuracy: 0.9997 - val_loss: 0.6043 - val_accuracy: 0.8619\n",
      "Epoch 15/40\n",
      "15000/15000 [==============================] - 0s 29us/sample - loss: 0.0085 - accuracy: 0.9997 - val_loss: 0.6093 - val_accuracy: 0.8626\n",
      "Epoch 16/40\n",
      "15000/15000 [==============================] - 0s 24us/sample - loss: 0.0083 - accuracy: 0.9997 - val_loss: 0.6175 - val_accuracy: 0.8630\n",
      "Epoch 17/40\n",
      "15000/15000 [==============================] - 0s 25us/sample - loss: 0.0080 - accuracy: 0.9997 - val_loss: 0.6188 - val_accuracy: 0.8627\n",
      "Epoch 18/40\n",
      "15000/15000 [==============================] - 0s 25us/sample - loss: 0.0075 - accuracy: 0.9998 - val_loss: 0.6252 - val_accuracy: 0.8625\n",
      "Epoch 19/40\n",
      "15000/15000 [==============================] - 0s 23us/sample - loss: 0.0072 - accuracy: 0.9997 - val_loss: 0.6292 - val_accuracy: 0.8621\n",
      "Epoch 20/40\n",
      "15000/15000 [==============================] - 0s 22us/sample - loss: 0.0069 - accuracy: 0.9997 - val_loss: 0.6348 - val_accuracy: 0.8621\n",
      "Epoch 21/40\n",
      "15000/15000 [==============================] - 0s 23us/sample - loss: 0.0067 - accuracy: 0.9998 - val_loss: 0.6395 - val_accuracy: 0.8619\n",
      "Epoch 22/40\n",
      "15000/15000 [==============================] - 0s 23us/sample - loss: 0.0065 - accuracy: 0.9998 - val_loss: 0.6448 - val_accuracy: 0.8620\n",
      "Epoch 23/40\n",
      "15000/15000 [==============================] - 0s 23us/sample - loss: 0.0062 - accuracy: 0.9998 - val_loss: 0.6489 - val_accuracy: 0.8616\n",
      "Epoch 24/40\n",
      "15000/15000 [==============================] - 0s 23us/sample - loss: 0.0060 - accuracy: 0.9998 - val_loss: 0.6539 - val_accuracy: 0.8618\n",
      "Epoch 25/40\n",
      "15000/15000 [==============================] - 0s 23us/sample - loss: 0.0058 - accuracy: 0.9998 - val_loss: 0.6578 - val_accuracy: 0.8616\n",
      "Epoch 26/40\n",
      "15000/15000 [==============================] - 0s 23us/sample - loss: 0.0056 - accuracy: 0.9998 - val_loss: 0.6642 - val_accuracy: 0.8615\n",
      "Epoch 27/40\n",
      "15000/15000 [==============================] - 0s 23us/sample - loss: 0.0053 - accuracy: 0.9998 - val_loss: 0.6679 - val_accuracy: 0.8612\n",
      "Epoch 28/40\n",
      "15000/15000 [==============================] - 0s 22us/sample - loss: 0.0051 - accuracy: 0.9998 - val_loss: 0.6743 - val_accuracy: 0.8612\n",
      "Epoch 29/40\n",
      "15000/15000 [==============================] - 0s 23us/sample - loss: 0.0051 - accuracy: 0.9999 - val_loss: 0.6772 - val_accuracy: 0.8611\n",
      "Epoch 30/40\n",
      "15000/15000 [==============================] - 0s 22us/sample - loss: 0.0049 - accuracy: 0.9998 - val_loss: 0.6813 - val_accuracy: 0.8618\n",
      "Epoch 31/40\n",
      "15000/15000 [==============================] - 0s 22us/sample - loss: 0.0049 - accuracy: 0.9999 - val_loss: 0.6866 - val_accuracy: 0.8612\n",
      "Epoch 32/40\n",
      "15000/15000 [==============================] - 0s 22us/sample - loss: 0.0045 - accuracy: 0.9999 - val_loss: 0.6901 - val_accuracy: 0.8615\n",
      "Epoch 33/40\n",
      "15000/15000 [==============================] - 0s 26us/sample - loss: 0.0044 - accuracy: 0.9999 - val_loss: 0.6960 - val_accuracy: 0.8610\n",
      "Epoch 34/40\n",
      "15000/15000 [==============================] - 0s 23us/sample - loss: 0.0042 - accuracy: 0.9999 - val_loss: 0.6989 - val_accuracy: 0.8609\n",
      "Epoch 35/40\n",
      "15000/15000 [==============================] - 0s 23us/sample - loss: 0.0041 - accuracy: 0.9999 - val_loss: 0.7041 - val_accuracy: 0.8608\n",
      "Epoch 36/40\n",
      "15000/15000 [==============================] - 0s 27us/sample - loss: 0.0040 - accuracy: 0.9999 - val_loss: 0.7088 - val_accuracy: 0.8603\n",
      "Epoch 37/40\n",
      "15000/15000 [==============================] - 0s 23us/sample - loss: 0.0038 - accuracy: 0.9999 - val_loss: 0.7134 - val_accuracy: 0.8605\n",
      "Epoch 38/40\n",
      "15000/15000 [==============================] - 0s 22us/sample - loss: 0.0037 - accuracy: 0.9999 - val_loss: 0.7175 - val_accuracy: 0.8611\n",
      "Epoch 39/40\n",
      "15000/15000 [==============================] - 0s 23us/sample - loss: 0.0036 - accuracy: 0.9999 - val_loss: 0.7220 - val_accuracy: 0.8609\n",
      "Epoch 40/40\n",
      "15000/15000 [==============================] - 0s 22us/sample - loss: 0.0035 - accuracy: 0.9999 - val_loss: 0.7260 - val_accuracy: 0.8609\n"
     ]
    }
   ],
   "source": [
    "# 모델 훈련\n",
    "history = model.fit(partial_x_train,\n",
    "                    partial_y_train,\n",
    "                    epochs=40, # 40번 동안 훈련한다는 의미 (훈련 횟수)\n",
    "                    batch_size=512, # 512개의 샘플로 이루어진 미니배치(mini-batch)로 학습\n",
    "                    validation_data=(x_val, y_val),\n",
    "                    verbose=1) # 학습 중 출력되는 문구 설정 (0: nothing, 1: 학습이 되는 진행 막대 표시, 2: 미니 배치마다 손실 정보 출력) ## https://wikidocs.net/32105\n"
   ]
  },
  {
   "cell_type": "code",
   "execution_count": 39,
   "metadata": {},
   "outputs": [
    {
     "name": "stdout",
     "output_type": "stream",
     "text": [
      "25000/25000 - 1s - loss: 0.7752 - accuracy: 0.8475\n",
      "[0.7751777867007256, 0.84748]\n"
     ]
    }
   ],
   "source": [
    "# 모델 평가 --> 손실(오차이기 때문에 낮을수록 good), 정확도\n",
    "results = model.evaluate(test_data, test_labels, verbose=2)\n",
    "print(results)"
   ]
  },
  {
   "cell_type": "code",
   "execution_count": 42,
   "metadata": {},
   "outputs": [
    {
     "data": {
      "text/plain": [
       "dict_keys(['loss', 'accuracy', 'val_loss', 'val_accuracy'])"
      ]
     },
     "execution_count": 42,
     "metadata": {},
     "output_type": "execute_result"
    }
   ],
   "source": [
    "# 정확도, 손실 graph\n",
    "history_dict = history.history\n",
    "history_dict.keys()"
   ]
  },
  {
   "cell_type": "code",
   "execution_count": 46,
   "metadata": {},
   "outputs": [
    {
     "data": {
      "image/png": "[encoded data removed]",
      "text/plain": [
       "<Figure size 432x288 with 1 Axes>"
      ]
     },
     "metadata": {
      "needs_background": "light"
     },
     "output_type": "display_data"
    }
   ],
   "source": [
    "# 훈련 손실, 검증 손실 graph\n",
    "import matplotlib.pyplot as plt\n",
    "\n",
    "acc = history_dict['accuracy']\n",
    "val_acc = history_dict['val_accuracy']\n",
    "loss = history_dict['loss']\n",
    "val_loss = history_dict['val_loss']\n",
    "\n",
    "epochs = range(1, len(acc) + 1)\n",
    "\n",
    "# 'bo': 파란색 점\n",
    "plt.plot(epochs, loss, 'bo', label='Training loss')\n",
    "# b: 파란 실선\n",
    "plt.plot(epochs, val_loss, 'b', label='Validation loss')\n",
    "plt.title('Training and validation loss')\n",
    "plt.xlabel('Epochs')\n",
    "plt.ylabel('Loss')\n",
    "plt.legend()\n",
    "\n",
    "plt.show()"
   ]
  },
  {
   "cell_type": "code",
   "execution_count": 48,
   "metadata": {},
   "outputs": [
    {
     "data": {
      "image/png": "[encoded data removed]",
      "text/plain": [
       "<Figure size 432x288 with 1 Axes>"
      ]
     },
     "metadata": {
      "needs_background": "light"
     },
     "output_type": "display_data"
    }
   ],
   "source": [
    "# 훈련, 검증 정확도 graph\n",
    "plt.clf() # 그림 초기화\n",
    "\n",
    "plt.plot(epochs, acc, 'bo', label='Training Acc')\n",
    "plt.plot(epochs, val_acc, 'b', label='Validation Acc')\n",
    "plt.title('Training and validation accuracy')\n",
    "plt.xlabel('Epochs')\n",
    "plt.ylabel('Accuracy')\n",
    "plt.legend()\n",
    "\n",
    "plt.show()"
   ]
  },
  {
   "cell_type": "code",
   "execution_count": null,
   "metadata": {},
   "outputs": [],
   "source": []
  }
 ],
 "metadata": {
  "kernelspec": {
   "display_name": "Python 3",
   "language": "python",
   "name": "python3"
  },
  "language_info": {
   "codemirror_mode": {
    "name": "ipython",
    "version": 3
   },
   "file_extension": ".py",
   "mimetype": "text/x-python",
   "name": "python",
   "nbconvert_exporter": "python",
   "pygments_lexer": "ipython3",
   "version": "3.7.3"
  }
 },
 "nbformat": 4,
 "nbformat_minor": 4
}
