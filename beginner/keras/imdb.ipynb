{
 "cells": [
  {
   "cell_type": "markdown",
   "metadata": {},
   "source": [
    "# 영화 리뷰를 사용한 텍스트 분류\n",
    "\n",
    "- 영화 리뷰 텍스트를 긍정 or 부정으로 분류\n",
    "- 이진(binary) or 클래스가 2개인 분류 문제\n",
    "- 인터넷 영화 데이터베이스 (Internet Movie Database -> IMDB)에서 수집한 50,000개의 영화 리뷰 테스트를 담은 IMDB 데이터셋 사용\n",
    "    - 25,000개 리뷰는 훈련용\n",
    "    - 25,000개 리뷰는 테스트용으로 나뉘어져 있음\n",
    "- 훈련 세트, 테스트 세트의 클래스는 균형 잡혀 있음\n",
    "    - 긍정, 부정 리뷰 개수가 동일하다는 의미"
   ]
  },
  {
   "cell_type": "code",
   "execution_count": 54,
   "metadata": {},
   "outputs": [],
   "source": [
    "import tensorflow as tf\n",
    "from tensorflow import keras\n",
    "\n",
    "import numpy as np\n",
    "\n",
    "# 데이터 download 인증 문제로 인해 추가함\n",
    "import ssl\n",
    "ssl._create_default_https_context = ssl._create_unverified_context"
   ]
  },
  {
   "cell_type": "code",
   "execution_count": 55,
   "metadata": {},
   "outputs": [],
   "source": [
    "# 단어의 시퀀스가 미리 전처리 되어 정수 시퀀스로 변환되어 있음 (정수값 = 어휘 사전에 있는 특정 단어)\n",
    "imdb = keras.datasets.imdb"
   ]
  },
  {
   "cell_type": "code",
   "execution_count": 56,
   "metadata": {},
   "outputs": [
    {
     "name": "stderr",
     "output_type": "stream",
     "text": [
      "/Library/Frameworks/Python.framework/Versions/3.7/lib/python3.7/site-packages/tensorflow_core/python/keras/datasets/imdb.py:129: VisibleDeprecationWarning: Creating an ndarray from ragged nested sequences (which is a list-or-tuple of lists-or-tuples-or ndarrays with different lengths or shapes) is deprecated. If you meant to do this, you must specify 'dtype=object' when creating the ndarray\n",
      "  x_train, y_train = np.array(xs[:idx]), np.array(labels[:idx])\n",
      "/Library/Frameworks/Python.framework/Versions/3.7/lib/python3.7/site-packages/tensorflow_core/python/keras/datasets/imdb.py:130: VisibleDeprecationWarning: Creating an ndarray from ragged nested sequences (which is a list-or-tuple of lists-or-tuples-or ndarrays with different lengths or shapes) is deprecated. If you meant to do this, you must specify 'dtype=object' when creating the ndarray\n",
      "  x_test, y_test = np.array(xs[idx:]), np.array(labels[idx:])\n"
     ]
    }
   ],
   "source": [
    "# num_words: 훈련 데이터에서 가장 많이 등장하는 상위 단어 개수\n",
    "(train_data, train_labels), (test_data, test_labels) = imdb.load_data(num_words=10000)"
   ]
  },
  {
   "cell_type": "code",
   "execution_count": 57,
   "metadata": {},
   "outputs": [
    {
     "name": "stdout",
     "output_type": "stream",
     "text": [
      "훈련 샘플: 25000, 레이블: 25000\n",
      "218 189\n"
     ]
    }
   ],
   "source": [
    "# data exploration -- 0: negative, 1:positive\n",
    "print(\"훈련 샘플: {}, 레이블: {}\".format(len(train_data), len(train_labels)))\n",
    "# 영화 리뷰별 길이가 다름\n",
    "print(len(train_data[0]), len(train_data[1]))"
   ]
  },
  {
   "cell_type": "code",
   "execution_count": 58,
   "metadata": {},
   "outputs": [],
   "source": [
    "# 단어와 정수 인덱스를 매핑한 딕셔너리\n",
    "word_index = imdb.get_word_index()"
   ]
  },
  {
   "cell_type": "code",
   "execution_count": 59,
   "metadata": {},
   "outputs": [
    {
     "name": "stdout",
     "output_type": "stream",
     "text": [
      "<START> this film was just brilliant casting location scenery story direction everyone's really suited the part they played and you could just imagine being there robert <UNK> is an amazing actor and now the same being director <UNK> father came from the same scottish island as myself so i loved the fact there was a real connection with this film the witty remarks throughout the film were great it was just brilliant so much that i bought the film as soon as it was released for <UNK> and would recommend it to everyone to watch and the fly fishing was amazing really cried at the end it was so sad and you know what they say if you cry at a film it must have been good and this definitely was also <UNK> to the two little boy's that played the <UNK> of norman and paul they were just brilliant children are often left out of the <UNK> list i think because the stars that play them all grown up are such a big profile for the whole film but these children are amazing and should be praised for what they have done don't you think the whole story was so lovely because it was true and was someone's life after all that was shared with us all\n"
     ]
    }
   ],
   "source": [
    "# 단어 인덱스 + 3 -- ex. fawn: 34701 -> 34704\n",
    "word_index = {k: (v+3) for k,v in word_index.items()}\n",
    "# 단어 추가\n",
    "word_index['<PAD>'] = 0\n",
    "word_index[\"<START>\"] = 1\n",
    "word_index[\"<UNK>\"] = 2  # unknown\n",
    "word_index[\"<UNUSED>\"] = 3\n",
    "\n",
    "# key, value값이 바뀜\n",
    "reverse_word_index = dict([(value, key) for (key, value) in word_index.items()])\n",
    "\n",
    "# 정수값에 대한 단어 도출 (input: 정수값 리스트)\n",
    "def decode_review(text):\n",
    "    return ' '.join([reverse_word_index.get(i, '?') for i in text]) # 정수값이 없으면 '?'로 표시\n",
    "\n",
    "print(decode_review(train_data[0]))"
   ]
  },
  {
   "cell_type": "markdown",
   "metadata": {},
   "source": [
    "## 텐서 변환 방법\n",
    "- 원-핫 인코딩(one-hot encoding): 정수 배열을 0과 1로 이루어진 벡터로 변환하는 방법\n",
    "    - ex. [0, 1, 2] --> [[1,0,0], [0,1,0], [0,0,1]]\n",
    "    - 크기: 단어 수 * 리뷰 수 --> memory 많이 사용\n",
    "- 패딩(padding): 정수 배열의 길이가 모두 같도록 변환하는 기법\n",
    "    - 크기: max_length * 리뷰 수\n",
    "        - max_length: 가장 긴 단어의 길이"
   ]
  },
  {
   "cell_type": "code",
   "execution_count": 60,
   "metadata": {},
   "outputs": [],
   "source": [
    "train_data = keras.preprocessing.sequence.pad_sequences(train_data,\n",
    "                                                        value=word_index[\"<PAD>\"],\n",
    "                                                        padding='post',\n",
    "                                                        maxlen=256)\n",
    "\n",
    "test_data = keras.preprocessing.sequence.pad_sequences(test_data,\n",
    "                                                       value=word_index[\"<PAD>\"],\n",
    "                                                       padding='post',\n",
    "                                                       maxlen=256)"
   ]
  },
  {
   "cell_type": "code",
   "execution_count": 61,
   "metadata": {},
   "outputs": [
    {
     "data": {
      "text/plain": [
       "(256, 256)"
      ]
     },
     "execution_count": 61,
     "metadata": {},
     "output_type": "execute_result"
    }
   ],
   "source": [
    "# 리뷰 길이가 같아짐\n",
    "len(train_data[0]), len(train_data[1])"
   ]
  },
  {
   "cell_type": "markdown",
   "metadata": {},
   "source": [
    "## 모델 구성\n",
    "### 분류기\n",
    "- Embedding 층\n",
    "    - 정수로 인코딩된 단어를 입력 받고, 각 단어 인덱스에 해당하는 임베딩 벡터를 찾음\n",
    "    - 모델이 훈련되면서 벡터가 학습됨\n",
    "    - 해당 벡터는 출력 배열에 새로운 차원으로 추가됨\n",
    "    - 최종 차원은 (batch, sequence, embedding)이 됨\n",
    "- GlobalAveragePooling1D 층\n",
    "    - sequence 차원에 대해 평균을 계산하여 각 샘플에 대해 고정된 길이의 출력 벡터를 반환\n",
    "    - 길이가 다른 입력을 다루는 가장 간단한 방법\n",
    "- 완전 연결 층 (Fully connected)\n",
    "    - 16개의 은닉 유닛을 가짐\n",
    "- 마지막 층\n",
    "    - sigmoid 활성화 함수를 사용하여 0~1의 실수를 출력\n",
    "    - 확률 or 신뢰도를 나타냄\n",
    "    \n",
    "### 은닉 유닛\n",
    "- 출력의 개수는 층이 가진 표현 공간(representational space)의 차원 (= 내부 표현을 학습할 때 허용되는 네트워크 자유도의 양)\n",
    "- 모델에 많은 은닉 유닛이 있을 경우\n",
    "    - 복잡한 표현을 학습 가능\n",
    "    - 네트워크의 계산 비용이 많이 들고, 원치 않는 패턴을 학습할 수도 있음 --> 과대적합 (훈련데이터에 과대하게 적합하게 피팅되는 현상 => 일반화 성능이 떨어짐)\n",
    "    \n",
    "    "
   ]
  },
  {
   "cell_type": "code",
   "execution_count": 62,
   "metadata": {},
   "outputs": [
    {
     "name": "stdout",
     "output_type": "stream",
     "text": [
      "Model: \"sequential_1\"\n",
      "_________________________________________________________________\n",
      "Layer (type)                 Output Shape              Param #   \n",
      "=================================================================\n",
      "embedding_1 (Embedding)      (None, None, 16)          160000    \n",
      "_________________________________________________________________\n",
      "global_average_pooling1d_1 ( (None, 16)                0         \n",
      "_________________________________________________________________\n",
      "dense_2 (Dense)              (None, 16)                272       \n",
      "_________________________________________________________________\n",
      "dense_3 (Dense)              (None, 1)                 17        \n",
      "=================================================================\n",
      "Total params: 160,289\n",
      "Trainable params: 160,289\n",
      "Non-trainable params: 0\n",
      "_________________________________________________________________\n"
     ]
    }
   ],
   "source": [
    "vocab_size = 10000 # num of words (어휘 사전의 크기)\n",
    "\n",
    "model = keras.Sequential()\n",
    "model.add(keras.layers.Embedding(vocab_size, 16, input_shape=(None,)))\n",
    "model.add(keras.layers.GlobalAveragePooling1D())\n",
    "model.add(keras.layers.Dense(16, activation='relu'))\n",
    "model.add(keras.layers.Dense(1, activation='sigmoid')) # 이진 분류 문제의 경우 sigmoid를 출력층의 활성화 함수로 주로 사용\n",
    "\n",
    "model.summary()"
   ]
  },
  {
   "cell_type": "code",
   "execution_count": 63,
   "metadata": {},
   "outputs": [],
   "source": [
    "model.compile(optimizer='adam',\n",
    "              loss='binary_crossentropy',\n",
    "              metrics=['accuracy'])"
   ]
  },
  {
   "cell_type": "code",
   "execution_count": 64,
   "metadata": {},
   "outputs": [],
   "source": [
    "# 검증 세트(validation set) --> 훈련 데이터만을 사용하여 모델을 개발하고 튜닝하는 것이 목표 (테스트 셋은 딱 한번 정확도 측정 시 사용)\n",
    "x_val = train_data[:10000]\n",
    "partial_x_train = train_data[10000:]\n",
    "\n",
    "y_val = train_labels[:10000]\n",
    "partial_y_train = train_labels[10000:]"
   ]
  },
  {
   "cell_type": "code",
   "execution_count": 65,
   "metadata": {},
   "outputs": [
    {
     "name": "stdout",
     "output_type": "stream",
     "text": [
      "Train on 15000 samples, validate on 10000 samples\n",
      "Epoch 1/40\n",
      "15000/15000 [==============================] - 1s 47us/sample - loss: 0.6915 - accuracy: 0.5816 - val_loss: 0.6887 - val_accuracy: 0.6893\n",
      "Epoch 2/40\n",
      "15000/15000 [==============================] - 0s 22us/sample - loss: 0.6836 - accuracy: 0.7189 - val_loss: 0.6783 - val_accuracy: 0.7303\n",
      "Epoch 3/40\n",
      "15000/15000 [==============================] - 0s 23us/sample - loss: 0.6677 - accuracy: 0.7543 - val_loss: 0.6589 - val_accuracy: 0.7469\n",
      "Epoch 4/40\n",
      "15000/15000 [==============================] - 0s 22us/sample - loss: 0.6410 - accuracy: 0.7763 - val_loss: 0.6287 - val_accuracy: 0.7709\n",
      "Epoch 5/40\n",
      "15000/15000 [==============================] - 0s 22us/sample - loss: 0.6023 - accuracy: 0.7938 - val_loss: 0.5892 - val_accuracy: 0.7915\n",
      "Epoch 6/40\n",
      "15000/15000 [==============================] - 0s 22us/sample - loss: 0.5551 - accuracy: 0.8173 - val_loss: 0.5449 - val_accuracy: 0.7975\n",
      "Epoch 7/40\n",
      "15000/15000 [==============================] - 0s 22us/sample - loss: 0.5057 - accuracy: 0.8340 - val_loss: 0.4999 - val_accuracy: 0.8256\n",
      "Epoch 8/40\n",
      "15000/15000 [==============================] - 0s 22us/sample - loss: 0.4577 - accuracy: 0.8539 - val_loss: 0.4589 - val_accuracy: 0.8388\n",
      "Epoch 9/40\n",
      "15000/15000 [==============================] - 0s 22us/sample - loss: 0.4146 - accuracy: 0.8691 - val_loss: 0.4247 - val_accuracy: 0.8476\n",
      "Epoch 10/40\n",
      "15000/15000 [==============================] - 0s 21us/sample - loss: 0.3779 - accuracy: 0.8785 - val_loss: 0.3958 - val_accuracy: 0.8562\n",
      "Epoch 11/40\n",
      "15000/15000 [==============================] - 0s 21us/sample - loss: 0.3470 - accuracy: 0.8869 - val_loss: 0.3734 - val_accuracy: 0.8634\n",
      "Epoch 12/40\n",
      "15000/15000 [==============================] - 0s 21us/sample - loss: 0.3215 - accuracy: 0.8931 - val_loss: 0.3551 - val_accuracy: 0.8676\n",
      "Epoch 13/40\n",
      "15000/15000 [==============================] - 0s 22us/sample - loss: 0.2994 - accuracy: 0.8999 - val_loss: 0.3406 - val_accuracy: 0.8714\n",
      "Epoch 14/40\n",
      "15000/15000 [==============================] - 0s 22us/sample - loss: 0.2801 - accuracy: 0.9049 - val_loss: 0.3284 - val_accuracy: 0.8750\n",
      "Epoch 15/40\n",
      "15000/15000 [==============================] - 0s 21us/sample - loss: 0.2631 - accuracy: 0.9107 - val_loss: 0.3202 - val_accuracy: 0.8745\n",
      "Epoch 16/40\n",
      "15000/15000 [==============================] - 0s 21us/sample - loss: 0.2480 - accuracy: 0.9157 - val_loss: 0.3111 - val_accuracy: 0.8790\n",
      "Epoch 17/40\n",
      "15000/15000 [==============================] - 0s 22us/sample - loss: 0.2341 - accuracy: 0.9200 - val_loss: 0.3051 - val_accuracy: 0.8816\n",
      "Epoch 18/40\n",
      "15000/15000 [==============================] - 0s 21us/sample - loss: 0.2231 - accuracy: 0.9221 - val_loss: 0.3000 - val_accuracy: 0.8829\n",
      "Epoch 19/40\n",
      "15000/15000 [==============================] - 0s 21us/sample - loss: 0.2108 - accuracy: 0.9282 - val_loss: 0.2955 - val_accuracy: 0.8823\n",
      "Epoch 20/40\n",
      "15000/15000 [==============================] - 0s 21us/sample - loss: 0.2004 - accuracy: 0.9326 - val_loss: 0.2922 - val_accuracy: 0.8831\n",
      "Epoch 21/40\n",
      "15000/15000 [==============================] - 0s 21us/sample - loss: 0.1908 - accuracy: 0.9373 - val_loss: 0.2897 - val_accuracy: 0.8850\n",
      "Epoch 22/40\n",
      "15000/15000 [==============================] - 0s 21us/sample - loss: 0.1821 - accuracy: 0.9404 - val_loss: 0.2883 - val_accuracy: 0.8840\n",
      "Epoch 23/40\n",
      "15000/15000 [==============================] - 0s 22us/sample - loss: 0.1740 - accuracy: 0.9443 - val_loss: 0.2875 - val_accuracy: 0.8853\n",
      "Epoch 24/40\n",
      "15000/15000 [==============================] - 0s 22us/sample - loss: 0.1657 - accuracy: 0.9475 - val_loss: 0.2868 - val_accuracy: 0.8857\n",
      "Epoch 25/40\n",
      "15000/15000 [==============================] - 0s 21us/sample - loss: 0.1583 - accuracy: 0.9507 - val_loss: 0.2881 - val_accuracy: 0.8829\n",
      "Epoch 26/40\n",
      "15000/15000 [==============================] - 0s 22us/sample - loss: 0.1521 - accuracy: 0.9527 - val_loss: 0.2865 - val_accuracy: 0.8855\n",
      "Epoch 27/40\n",
      "15000/15000 [==============================] - 0s 21us/sample - loss: 0.1450 - accuracy: 0.9566 - val_loss: 0.2871 - val_accuracy: 0.8856\n",
      "Epoch 28/40\n",
      "15000/15000 [==============================] - 0s 22us/sample - loss: 0.1392 - accuracy: 0.9583 - val_loss: 0.2892 - val_accuracy: 0.8855\n",
      "Epoch 29/40\n",
      "15000/15000 [==============================] - 0s 21us/sample - loss: 0.1332 - accuracy: 0.9609 - val_loss: 0.2904 - val_accuracy: 0.8852\n",
      "Epoch 30/40\n",
      "15000/15000 [==============================] - 0s 21us/sample - loss: 0.1276 - accuracy: 0.9640 - val_loss: 0.2913 - val_accuracy: 0.8857\n",
      "Epoch 31/40\n",
      "15000/15000 [==============================] - 0s 21us/sample - loss: 0.1220 - accuracy: 0.9659 - val_loss: 0.2925 - val_accuracy: 0.8858\n",
      "Epoch 32/40\n",
      "15000/15000 [==============================] - 0s 22us/sample - loss: 0.1177 - accuracy: 0.9667 - val_loss: 0.2956 - val_accuracy: 0.8849\n",
      "Epoch 33/40\n",
      "15000/15000 [==============================] - 0s 22us/sample - loss: 0.1125 - accuracy: 0.9677 - val_loss: 0.2975 - val_accuracy: 0.8842\n",
      "Epoch 34/40\n",
      "15000/15000 [==============================] - 0s 22us/sample - loss: 0.1081 - accuracy: 0.9710 - val_loss: 0.3007 - val_accuracy: 0.8841\n",
      "Epoch 35/40\n",
      "15000/15000 [==============================] - 0s 21us/sample - loss: 0.1037 - accuracy: 0.9718 - val_loss: 0.3045 - val_accuracy: 0.8828\n",
      "Epoch 36/40\n",
      "15000/15000 [==============================] - 0s 21us/sample - loss: 0.0991 - accuracy: 0.9739 - val_loss: 0.3064 - val_accuracy: 0.8835\n",
      "Epoch 37/40\n",
      "15000/15000 [==============================] - 0s 21us/sample - loss: 0.0951 - accuracy: 0.9754 - val_loss: 0.3096 - val_accuracy: 0.8831\n",
      "Epoch 38/40\n",
      "15000/15000 [==============================] - 0s 23us/sample - loss: 0.0910 - accuracy: 0.9766 - val_loss: 0.3135 - val_accuracy: 0.8833\n",
      "Epoch 39/40\n",
      "15000/15000 [==============================] - 0s 22us/sample - loss: 0.0874 - accuracy: 0.9781 - val_loss: 0.3168 - val_accuracy: 0.8816\n",
      "Epoch 40/40\n",
      "15000/15000 [==============================] - 0s 23us/sample - loss: 0.0837 - accuracy: 0.9795 - val_loss: 0.3203 - val_accuracy: 0.8813\n"
     ]
    }
   ],
   "source": [
    "# 모델 훈련\n",
    "history = model.fit(partial_x_train,\n",
    "                    partial_y_train,\n",
    "                    epochs=40, # 40번 동안 훈련한다는 의미 (훈련 횟수)\n",
    "                    batch_size=512, # 512개의 샘플로 이루어진 미니배치(mini-batch)로 학습\n",
    "                    validation_data=(x_val, y_val),\n",
    "                    verbose=1) # 학습 중 출력되는 문구 설정 (0: nothing, 1: 학습이 되는 진행 막대 표시, 2: 미니 배치마다 손실 정보 출력) ## https://wikidocs.net/32105\n"
   ]
  },
  {
   "cell_type": "code",
   "execution_count": 66,
   "metadata": {},
   "outputs": [
    {
     "name": "stdout",
     "output_type": "stream",
     "text": [
      "25000/25000 - 0s - loss: 0.3415 - accuracy: 0.8702\n",
      "[0.34154240412712095, 0.8702]\n"
     ]
    }
   ],
   "source": [
    "# 모델 평가 --> 손실(오차이기 때문에 낮을수록 good), 정확도\n",
    "results = model.evaluate(test_data, test_labels, verbose=2)\n",
    "print(results)"
   ]
  },
  {
   "cell_type": "code",
   "execution_count": 67,
   "metadata": {},
   "outputs": [
    {
     "data": {
      "text/plain": [
       "dict_keys(['loss', 'accuracy', 'val_loss', 'val_accuracy'])"
      ]
     },
     "execution_count": 67,
     "metadata": {},
     "output_type": "execute_result"
    }
   ],
   "source": [
    "# 정확도, 손실 graph\n",
    "history_dict = history.history\n",
    "history_dict.keys()"
   ]
  },
  {
   "cell_type": "code",
   "execution_count": 68,
   "metadata": {},
   "outputs": [
    {
     "data": {
      "image/png": "[encoded data removed]",
      "text/plain": [
       "<Figure size 432x288 with 1 Axes>"
      ]
     },
     "metadata": {
      "needs_background": "light"
     },
     "output_type": "display_data"
    }
   ],
   "source": [
    "# 훈련 손실, 검증 손실 graph --> 에포크마다 감소함\n",
    "import matplotlib.pyplot as plt\n",
    "\n",
    "acc = history_dict['accuracy']\n",
    "val_acc = history_dict['val_accuracy']\n",
    "loss = history_dict['loss']\n",
    "val_loss = history_dict['val_loss']\n",
    "\n",
    "epochs = range(1, len(acc) + 1)\n",
    "\n",
    "# 'bo': 파란색 점\n",
    "plt.plot(epochs, loss, 'bo', label='Training loss')\n",
    "# b: 파란 실선\n",
    "plt.plot(epochs, val_loss, 'b', label='Validation loss')\n",
    "plt.title('Training and validation loss')\n",
    "plt.xlabel('Epochs')\n",
    "plt.ylabel('Loss')\n",
    "plt.legend()\n",
    "\n",
    "plt.show()"
   ]
  },
  {
   "cell_type": "code",
   "execution_count": 69,
   "metadata": {},
   "outputs": [
    {
     "data": {
      "image/png": "[encoded data removed]",
      "text/plain": [
       "<Figure size 432x288 with 1 Axes>"
      ]
     },
     "metadata": {
      "needs_background": "light"
     },
     "output_type": "display_data"
    }
   ],
   "source": [
    "# 훈련, 검증 정확도 graph --> 에포크마다 증가함\n",
    "plt.clf() # 그림 초기화\n",
    "\n",
    "plt.plot(epochs, acc, 'bo', label='Training Acc')\n",
    "plt.plot(epochs, val_acc, 'b', label='Validation Acc')\n",
    "plt.title('Training and validation accuracy')\n",
    "plt.xlabel('Epochs')\n",
    "plt.ylabel('Accuracy')\n",
    "plt.legend()\n",
    "\n",
    "plt.show()"
   ]
  },
  {
   "cell_type": "code",
   "execution_count": null,
   "metadata": {},
   "outputs": [],
   "source": []
  }
 ],
 "metadata": {
  "kernelspec": {
   "display_name": "Python 3",
   "language": "python",
   "name": "python3"
  },
  "language_info": {
   "codemirror_mode": {
    "name": "ipython",
    "version": 3
   },
   "file_extension": ".py",
   "mimetype": "text/x-python",
   "name": "python",
   "nbconvert_exporter": "python",
   "pygments_lexer": "ipython3",
   "version": "3.7.3"
  }
 },
 "nbformat": 4,
 "nbformat_minor": 4
}
